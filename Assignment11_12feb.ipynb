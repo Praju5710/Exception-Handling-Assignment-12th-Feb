{
 "cells": [
  {
   "cell_type": "markdown",
   "id": "ea451b71-10d1-4c82-bbc9-61beab9c7660",
   "metadata": {},
   "source": [
    "Q1. What is an Exception in python? Write the difference between Exceptions and syntax errors."
   ]
  },
  {
   "cell_type": "markdown",
   "id": "a5340485-4361-4abc-846a-efede12194a8",
   "metadata": {},
   "source": [
    "#### In Python, an exception is an event that occurs during the execution of a program that disrupts the normal flow of instructions. It represents an error or an exceptional condition that the program encounters while running. When an exception occurs, the program stops executing its normal sequence and jumps to a specific block of code called an exception handler.\n",
    "\n",
    "#### The difference between exceptions and syntax errors:\n",
    "\n",
    "#### 1) Exceptions:\n",
    "#### i) Occur during runtime: Exceptions are detected and raised during the execution of the program when an exceptional condition is encountered.\n",
    "#### ii) Caused by runtime issues: Exceptions are typically caused by factors such as invalid data, resource unavailability, or other runtime errors.\n",
    "#### iii) Handled using try-except blocks: Exceptions can be caught and handled using try-except blocks. The code within the try block is executed, and if an exception occurs, the corresponding except block is executed to handle the exception.\n",
    "#### Examples: Some common exceptions in Python include TypeError, ValueError, FileNotFoundError, ZeroDivisionError, etc.\n",
    "\n",
    "#### 2) Syntax Errors:\n",
    "\n",
    "#### i) Detected during parsing: Syntax errors, also known as parsing errors, are detected by the Python interpreter during the parsing phase before the code is executed.\n",
    "#### ii) Caused by code structure issues: Syntax errors occur when the code violates the rules and structure of the Python language's syntax. This can include missing colons, mismatched parentheses, incorrect indentation, or using undefined variables.\n",
    "#### iii) Prevent the program from running: Syntax errors prevent the program from running at all because they violate the basic rules of the language's syntax. The interpreter cannot interpret and execute the code with syntax errors until they are fixed.\n",
    "#### Examples: Examples of syntax errors include missing colons in a function definition, using an invalid operator, or mismatched parentheses.\n",
    "\n",
    "#### In summary, exceptions occur during runtime and are caused by exceptional conditions encountered during program execution. They can be caught and handled using try-except blocks. On the other hand, syntax errors are detected during the parsing phase before execution and prevent the program from running until they are fixed. They occur due to violations of the language syntax rules."
   ]
  },
  {
   "cell_type": "markdown",
   "id": "9fa21f35-772e-4e1e-a745-819a0ce344ef",
   "metadata": {},
   "source": [
    "Q2. What happens when an exception is not handled? Explain with an example."
   ]
  },
  {
   "cell_type": "markdown",
   "id": "9b96c1e4-185e-40be-ac14-f01a6b354183",
   "metadata": {},
   "source": [
    "#### When an exception is not handled, it leads to the termination of the program and an error message is displayed. This error message includes information about the type of exception that occurred, along with a traceback that shows the sequence of function calls and the line of code where the exception was raised.\n",
    "#### Here's an example to illustrate what happens when an exception is not handled:"
   ]
  },
  {
   "cell_type": "code",
   "execution_count": 1,
   "id": "7aefa213-83ae-4a71-b970-f223d0d37134",
   "metadata": {},
   "outputs": [],
   "source": [
    "def num(a,b):\n",
    "    result=a/b\n",
    "    return result\n"
   ]
  },
  {
   "cell_type": "code",
   "execution_count": 2,
   "id": "3e6cbb6b-bb58-4f8e-917d-d6c79b231e9c",
   "metadata": {},
   "outputs": [
    {
     "ename": "ZeroDivisionError",
     "evalue": "division by zero",
     "output_type": "error",
     "traceback": [
      "\u001b[0;31m---------------------------------------------------------------------------\u001b[0m",
      "\u001b[0;31mZeroDivisionError\u001b[0m                         Traceback (most recent call last)",
      "Cell \u001b[0;32mIn[2], line 3\u001b[0m\n\u001b[1;32m      1\u001b[0m a\u001b[38;5;241m=\u001b[39m\u001b[38;5;241m24\u001b[39m\n\u001b[1;32m      2\u001b[0m b\u001b[38;5;241m=\u001b[39m\u001b[38;5;241m0\u001b[39m\n\u001b[0;32m----> 3\u001b[0m result\u001b[38;5;241m=\u001b[39m\u001b[43mnum\u001b[49m\u001b[43m(\u001b[49m\u001b[43ma\u001b[49m\u001b[43m,\u001b[49m\u001b[43mb\u001b[49m\u001b[43m)\u001b[49m\n\u001b[1;32m      4\u001b[0m \u001b[38;5;28mprint\u001b[39m(result)\n",
      "Cell \u001b[0;32mIn[1], line 2\u001b[0m, in \u001b[0;36mnum\u001b[0;34m(a, b)\u001b[0m\n\u001b[1;32m      1\u001b[0m \u001b[38;5;28;01mdef\u001b[39;00m \u001b[38;5;21mnum\u001b[39m(a,b):\n\u001b[0;32m----> 2\u001b[0m     result\u001b[38;5;241m=\u001b[39m\u001b[43ma\u001b[49m\u001b[38;5;241;43m/\u001b[39;49m\u001b[43mb\u001b[49m\n\u001b[1;32m      3\u001b[0m     \u001b[38;5;28;01mreturn\u001b[39;00m result\n",
      "\u001b[0;31mZeroDivisionError\u001b[0m: division by zero"
     ]
    }
   ],
   "source": [
    "a=24\n",
    "b=0\n",
    "result=num(a,b)\n",
    "print(result)"
   ]
  },
  {
   "cell_type": "markdown",
   "id": "48068432-2fdc-486a-8351-810a00360182",
   "metadata": {},
   "source": [
    "#### The error message clearly states that a ZeroDivisionError occurred at line 2 of the num function. Since there is no exception handling code to catch and handle this error, the program terminates abruptly.\n",
    "#### To prevent the program from terminating and handle the exception gracefully, we can use a try-except block to catch the exception and provide an alternative course of action:"
   ]
  },
  {
   "cell_type": "code",
   "execution_count": 7,
   "id": "beb1b666-7c02-463a-be94-d35fca8fedee",
   "metadata": {},
   "outputs": [],
   "source": [
    "def num(a,b):\n",
    "    try:\n",
    "        result=a/b\n",
    "        return result \n",
    "    except ZeroDivisionError:\n",
    "        print(\"number cannot divisible by zero\")\n",
    "        "
   ]
  },
  {
   "cell_type": "code",
   "execution_count": 8,
   "id": "ebd6ec26-0944-41a0-b418-c6d9c5a969fe",
   "metadata": {},
   "outputs": [
    {
     "name": "stdout",
     "output_type": "stream",
     "text": [
      "number cannot divisible by zero\n",
      "None\n"
     ]
    }
   ],
   "source": [
    "a=24\n",
    "b=0\n",
    "result=num(a,b)\n",
    "print(result)"
   ]
  },
  {
   "cell_type": "markdown",
   "id": "c11f799d-4e2c-4f3d-bb1e-96d9361aeb14",
   "metadata": {},
   "source": [
    "Q3. Which python statements are used to catch and handle exceptions? Explain with an example. "
   ]
  },
  {
   "cell_type": "markdown",
   "id": "991facd0-203b-41db-8e06-ce9c6065769f",
   "metadata": {},
   "source": [
    "#### In Python, the try-except statements are used to catch and handle exceptions. The try block contains the code that might raise an exception, and the except block specifies the code to be executed when a specific exception occurs.\n",
    "#### e.g"
   ]
  },
  {
   "cell_type": "code",
   "execution_count": 1,
   "id": "79086a84-c391-4423-b78f-1081a2c8dd3d",
   "metadata": {},
   "outputs": [],
   "source": [
    "def numb(a,b):\n",
    "    try:\n",
    "        result=a/b\n",
    "        return result \n",
    "    except ZeroDivisionError:\n",
    "        print(\"number cannot divisible by zero\")\n",
    "    except TypeError:\n",
    "        print(\"Invalid output\")\n",
    "        \n",
    "        "
   ]
  },
  {
   "cell_type": "code",
   "execution_count": 2,
   "id": "3de63675-19eb-4acd-88d4-175790f97e4b",
   "metadata": {},
   "outputs": [
    {
     "name": "stdout",
     "output_type": "stream",
     "text": [
      "number cannot divisible by zero\n",
      "None\n"
     ]
    }
   ],
   "source": [
    "a=24\n",
    "b=0\n",
    "result=numb(a,b)\n",
    "print(result)"
   ]
  },
  {
   "cell_type": "code",
   "execution_count": 4,
   "id": "a703e784-5c74-493c-be48-a411db72a098",
   "metadata": {},
   "outputs": [
    {
     "name": "stdout",
     "output_type": "stream",
     "text": [
      "Invalid output\n",
      "None\n"
     ]
    }
   ],
   "source": [
    "num1= 24\n",
    "num2= '3'\n",
    "result1=numb(num1,num2)\n",
    "print(result1)"
   ]
  },
  {
   "cell_type": "markdown",
   "id": "d6e44dea-309d-4fa8-bfae-fa1561bb9061",
   "metadata": {},
   "source": [
    "Q4. Explain with an example:  \n",
    "    a. try and else     \n",
    "    b. finally     \n",
    "    c. raise"
   ]
  },
  {
   "cell_type": "markdown",
   "id": "264cc161-e8d1-4d41-b62d-4ca382826e62",
   "metadata": {},
   "source": [
    "#### a) try and else:\n",
    "The else block is used in conjunction with the try block to specify a piece of code that should be executed if no exceptions are raised. It provides a way to separate the code that may raise an exception from the code that should be executed only if no exception occurs."
   ]
  },
  {
   "cell_type": "code",
   "execution_count": 9,
   "id": "b6bb1192-a6cc-4003-8b92-4b3dfe740f8d",
   "metadata": {},
   "outputs": [
    {
     "name": "stdout",
     "output_type": "stream",
     "text": [
      "There is some issue with code [Errno 2] No such file or directory: 'assign.txt'\n"
     ]
    }
   ],
   "source": [
    "try:\n",
    "    f=open(\"assign.txt\",\"r\")\n",
    "    f.write(\"This is my assignment\")\n",
    "except Exception as e :\n",
    "    print(\"There is some issue with code\",e)\n",
    "else:\n",
    "    f.close()\n",
    "    print(\"There is no problem\")\n",
    "    "
   ]
  },
  {
   "cell_type": "code",
   "execution_count": 10,
   "id": "7b7648a6-ac92-4590-91ae-159dd6155f8b",
   "metadata": {},
   "outputs": [
    {
     "name": "stdout",
     "output_type": "stream",
     "text": [
      "There is no problem\n"
     ]
    }
   ],
   "source": [
    "try:\n",
    "    f=open(\"assign.txt\",\"w\")\n",
    "    f.write(\"This is my assignment\")\n",
    "except Exception as e :\n",
    "    print(\"There is some issue with code\",e)\n",
    "else:\n",
    "    f.close()\n",
    "    print(\"There is no problem\")\n",
    "    "
   ]
  },
  {
   "cell_type": "markdown",
   "id": "638465e1-77ff-46cf-8d86-a4be18efee28",
   "metadata": {},
   "source": [
    "#### b) finally:\n",
    "The finally block is used to specify a piece of code that should be executed regardless of whether an exception is raised or not. It is commonly used for cleanup operations, such as closing files or releasing resources, that need to be performed regardless of exceptions."
   ]
  },
  {
   "cell_type": "code",
   "execution_count": 13,
   "id": "1f3749f0-52e7-4bf8-98ab-45cf4121d152",
   "metadata": {},
   "outputs": [
    {
     "name": "stdout",
     "output_type": "stream",
     "text": [
      "There is some issue with code [Errno 2] No such file or directory: 'data.txt'\n",
      "It is done\n"
     ]
    }
   ],
   "source": [
    "try:\n",
    "    f=open(\"data.txt\",\"r\")\n",
    "    f.write(\"This is my assignment\")\n",
    "except Exception as e :\n",
    "    print(\"There is some issue with code\",e)\n",
    "    \n",
    "finally:\n",
    "    print(\"It is done\")\n",
    "    "
   ]
  },
  {
   "cell_type": "markdown",
   "id": "06a55a5a-1865-49f1-8c99-0e695d315d72",
   "metadata": {},
   "source": [
    "#### c) raise:\n",
    "The raise statement is used to explicitly raise an exception in Python. It allows you to create and raise your own exceptions, providing a way to handle specific scenarios that require custom exception handling."
   ]
  },
  {
   "cell_type": "code",
   "execution_count": 17,
   "id": "5a264573-214b-49a9-b0b9-75c0e9526300",
   "metadata": {},
   "outputs": [],
   "source": [
    "class validateheight(Exception):\n",
    "    def __init__(self,msg):\n",
    "        self.msg=msg"
   ]
  },
  {
   "cell_type": "code",
   "execution_count": 18,
   "id": "781f9cb4-ed13-4687-9092-13f1ceae3d0f",
   "metadata": {},
   "outputs": [],
   "source": [
    "def validate_height(height):\n",
    "    if height<0:\n",
    "        raise validateheight(\"height should not be negative\")\n",
    "    elif height > 300 :\n",
    "        raise validateheight(\"height is too high\")\n",
    "    else:\n",
    "        print(\"height is valid\")"
   ]
  },
  {
   "cell_type": "code",
   "execution_count": 21,
   "id": "cf5bbcbe-3ebe-4a9a-854a-8aef901d5a90",
   "metadata": {},
   "outputs": [
    {
     "name": "stdin",
     "output_type": "stream",
     "text": [
      "enter your height -65\n"
     ]
    },
    {
     "name": "stdout",
     "output_type": "stream",
     "text": [
      "height should not be negative\n"
     ]
    }
   ],
   "source": [
    "try:\n",
    "    height=int(input(\"enter your height\"))\n",
    "    validate_height(height)\n",
    "except validateheight as e:\n",
    "    print(e)"
   ]
  },
  {
   "cell_type": "markdown",
   "id": "60a4657d-01b3-455d-a9b3-adb9a103b9f4",
   "metadata": {},
   "source": [
    "Q5. What are Custom Exceptions in python ? Why do we need Custom Exceptions? Explain with an example."
   ]
  },
  {
   "cell_type": "markdown",
   "id": "5048b842-cf96-4408-89fd-942d6f90e03e",
   "metadata": {},
   "source": [
    "#### In Python, custom exceptions are user-defined exception classes that inherit from the base Exception class or its subclasses. They are used to create specialized exceptions that are specific to a particular application or domain. Custom exceptions allow to define our own exception hierarchy and provide more meaningful error messages and behavior for specific scenarios in our code.\n",
    "#### e.g "
   ]
  },
  {
   "cell_type": "code",
   "execution_count": 2,
   "id": "c63bf29d-bff1-4119-8819-9a2bab122092",
   "metadata": {},
   "outputs": [],
   "source": [
    "class WithdrawalError(Exception):\n",
    "    pass\n",
    "class InsufficientFundsError(WithdrawalError):\n",
    "    pass\n",
    "class InvalidAmountError(WithdrawalError):\n",
    "    pass\n",
    "    \n",
    "\n",
    "\n",
    "class bankaccount:\n",
    "    def __init__(self,balance):\n",
    "        self.balance=balance\n",
    "        \n",
    "    def withdraw(self,amount):\n",
    "        if amount<=0:\n",
    "            raise InvalidAmountError(\"Invalid amount for withdrawl\")\n",
    "        if amount > self.balance :\n",
    "            raise InsufficientFundsError(\"Insufficient funds for withdrawl\")\n",
    "        self.balance -=amount\n",
    "        return self.balance\n",
    "\n",
    "account=bankaccount(1000)\n"
   ]
  },
  {
   "cell_type": "code",
   "execution_count": 3,
   "id": "b9f4514c-5ec7-4e23-9d57-d6e9d1a3648a",
   "metadata": {},
   "outputs": [
    {
     "name": "stdin",
     "output_type": "stream",
     "text": [
      "enter the withdrawal amount 300\n"
     ]
    },
    {
     "name": "stdout",
     "output_type": "stream",
     "text": [
      "Remaining balance 700\n"
     ]
    }
   ],
   "source": [
    "\n",
    "try:\n",
    "    amount=int(input(\"enter the withdrawal amount\"))\n",
    "    remaining_balance=account.withdraw(amount)         \n",
    "    print(\"Remaining balance\",remaining_balance)           \n",
    "except InvalidAmountError as e:\n",
    "      print(e)\n",
    "except InsufficientFundsError as e:\n",
    "    print(e)\n",
    "               "
   ]
  },
  {
   "cell_type": "markdown",
   "id": "3ddd7ca0-b041-4be6-a1fb-3501aad2a864",
   "metadata": {},
   "source": [
    "Q6. Create a custom exception class . Use this class to handle an exception."
   ]
  },
  {
   "cell_type": "code",
   "execution_count": 3,
   "id": "266835c7-2df7-4a34-8c0d-42949857fdaf",
   "metadata": {},
   "outputs": [],
   "source": [
    "class validateemail(Exception):\n",
    "    def __init__(self,email):\n",
    "        self.email=email"
   ]
  },
  {
   "cell_type": "code",
   "execution_count": 4,
   "id": "2a7cdc28-8b8d-4995-942e-30441d123cc6",
   "metadata": {},
   "outputs": [],
   "source": [
    "def validate_email(email):\n",
    "    if \"@\" not in email:\n",
    "        raise validateemail(email)\n",
    "    else:\n",
    "        print(\"email is valid\")"
   ]
  },
  {
   "cell_type": "code",
   "execution_count": 5,
   "id": "a89e28cf-b062-43d1-abe3-950914b5280b",
   "metadata": {},
   "outputs": [
    {
     "name": "stdin",
     "output_type": "stream",
     "text": [
      "enter your email praju@gmail.com\n"
     ]
    },
    {
     "name": "stdout",
     "output_type": "stream",
     "text": [
      "email is valid\n"
     ]
    }
   ],
   "source": [
    "try:\n",
    "    email=input(\"enter your email\")\n",
    "    validate_email(email)\n",
    "except validateemail as e:\n",
    "    print(e)"
   ]
  }
 ],
 "metadata": {
  "kernelspec": {
   "display_name": "Python 3 (ipykernel)",
   "language": "python",
   "name": "python3"
  },
  "language_info": {
   "codemirror_mode": {
    "name": "ipython",
    "version": 3
   },
   "file_extension": ".py",
   "mimetype": "text/x-python",
   "name": "python",
   "nbconvert_exporter": "python",
   "pygments_lexer": "ipython3",
   "version": "3.10.8"
  }
 },
 "nbformat": 4,
 "nbformat_minor": 5
}
